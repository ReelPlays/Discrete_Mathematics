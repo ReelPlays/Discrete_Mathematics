{
 "cells": [
  {
   "cell_type": "markdown",
   "id": "f56b8400-bf6d-45a6-a88a-a749d3f14e2d",
   "metadata": {},
   "source": [
    "**Problem 1: Is A a subset of B? Show a proof.**\r\n",
    "\r\n",
    "Given sets:\r\n",
    "\r\n",
    "- A = {2, 3, 4, 5}\r\n",
    "- B = {x ∈ ℕ | x is even}\r\n",
    "\r\n",
    "**Proof:**\r\n",
    "\r\n",
    "To determine if A is a subset of B, we need to check if every element in A is also in B.\r\n",
    "\r\n",
    "1. Element 2 is in A and also in B since 2 is even.\r\n",
    "2. Element 3 is in A but not in B since 3 is odd.\r\n",
    "3. Element 4 is in A and also in B since 4 is even.\r\n",
    "4. Element 5 is in A but not in B since 5 is odd.\r\n",
    "\r\n",
    "Since not every element in A is in B, we can conclude that A is not a subset of B.\r\n",
    "\r\n",
    "Mathematically:\r\n",
    "A is not a subset of B\r\n",
    "\r\n",
    "**Problem 2: Find a set X that satisfies the following conditions:**\r\n",
    "\r\n",
    "1. X and B are disjoint.\r\n",
    "2. X is a subset of D but not a subset of B.\r\n",
    "3. X is a subset of A but not a subset of C.\r\n",
    "\r\n",
    "Given sets:\r\n",
    "\r\n",
    "- A = {x | x ∈ ℤ, 0 ≤ x ≤ 9}\r\n",
    "- B = {2, 4, 6, 8}\r\n",
    "- C = {1, 3, 5, 7, 9}\r\n",
    "- D = {3, 4, 5}\r\n",
    "\r\n",
    "One possible set X that satisfies these conditions is:\r\n",
    "\r\n",
    "- X = {0}\r\n",
    "\r\n",
    "To check if X satisfies the conditions:\r\n",
    "\r\n",
    "1. X ∩ B = {0} ∩ {2, 4, 6, 8} = {}, which means X and B are disjoint.\r\n",
    "2. X is a subset of D because X = {0} and D = {3, 4, 5}.\r\n",
    "3. X is a subset of A because X = {0} and A = {0, 1, 2, 3, 4, 5, 6, 7, 8, 9}.\r\n",
    "4. X is not a subset of C because X = {0} and C = {1, 3, 5, 7, 9}.\r\n",
    "\r\n",
    "So, the set X = {0} satisfies all the given conditions.\r\n"
   ]
  },
  {
   "cell_type": "code",
   "execution_count": null,
   "id": "7286f800-13f3-44df-9706-bbe771ffafac",
   "metadata": {},
   "outputs": [],
   "source": []
  }
 ],
 "metadata": {
  "kernelspec": {
   "display_name": "Python 3 (ipykernel)",
   "language": "python",
   "name": "python3"
  },
  "language_info": {
   "codemirror_mode": {
    "name": "ipython",
    "version": 3
   },
   "file_extension": ".py",
   "mimetype": "text/x-python",
   "name": "python",
   "nbconvert_exporter": "python",
   "pygments_lexer": "ipython3",
   "version": "3.11.5"
  }
 },
 "nbformat": 4,
 "nbformat_minor": 5
}
