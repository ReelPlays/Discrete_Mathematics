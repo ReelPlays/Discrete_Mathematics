{
 "cells": [
  {
   "cell_type": "code",
   "execution_count": 53,
   "metadata": {},
   "outputs": [],
   "source": [
    "def reflexive(R, A):\n",
    "    for a in A:\n",
    "        if (a, a) not in R:\n",
    "            return False\n",
    "    return True"
   ]
  },
  {
   "cell_type": "code",
   "execution_count": 54,
   "metadata": {},
   "outputs": [],
   "source": [
    "def symmetric(R):\n",
    "    for (a, b) in R:\n",
    "        if (b, a) not in R:\n",
    "            return False\n",
    "    return True"
   ]
  },
  {
   "cell_type": "markdown",
   "metadata": {},
   "source": [
    "# <font color=blue>Relations</font>\n",
    "## Keith Mark P. Saldana - Group 8 - <font color=#0093AF>BSIT-1</font>"
   ]
  },
  {
   "cell_type": "markdown",
   "metadata": {},
   "source": [
    " ## <font color=green>ASSIGNMENT</font>\n",
    "\n",
    "- ### Create a python function that will determine if a set is transitive or not."
   ]
  },
  {
   "cell_type": "markdown",
   "metadata": {},
   "source": [
    "\r\n",
    "**Relation R1:**\r\n",
    "\\[\r\n",
    "R1 = \\{\r\n",
    "    \\{1, 1\\}, \\{1, 2\\}, \\{2, 3\\}, \\{1, 3\\}, \\{4, 4\\}\r\n",
    "\\}\r\n",
    "\\]\r\n",
    "\r\n",
    "**Relation R2:**\r\n",
    "\\[\r\n",
    "R2 = \\{\r\n",
    "    \\{1, 1\\}, \\{1, 2\\}, \\{2, 1\\}, \\{2, 2\\}, \\{3, 3\\}, \\{4, 4\\}\r\n",
    "\\}\r\n",
    "\\]\r\n",
    "\r\n",
    "**Relation R3:**\r\n",
    "\\[\r\n",
    "R3 = \\{\r\n",
    "    \\{1, 3\\}, \\{2, 1\\}\r\n",
    "\\}\r\n",
    "\\]\r\n",
    "\r\n",
    "**Relation R4:**\r\n",
    "\\[\r\n",
    "R4 = A \\times A\r\n",
    " between the different relations."
   ]
  },
  {
   "cell_type": "code",
   "execution_count": 55,
   "metadata": {},
   "outputs": [
    {
     "name": "stdout",
     "output_type": "stream",
     "text": [
      "{(4, 4), (2, 3), (1, 2), (1, 1), (1, 3)}\n",
      "  transitive:  True\n",
      "{(4, 4), (1, 2), (3, 3), (2, 1), (2, 2), (1, 1)}\n",
      "  transitive:  True\n",
      "{(1, 3), (2, 1)}\n",
      "  transitive:  False\n",
      "{(4, 4), (2, 4), (1, 2), (2, 1), (3, 4), (4, 1), (3, 1), (4, 3), (1, 1), (1, 4), (4, 2), (2, 3), (3, 3), (2, 2), (3, 2), (1, 3)}\n",
      "  transitive:  True\n"
     ]
    }
   ],
   "source": [
    "def transitive(Relation):\n",
    "    for a, b in Relation:\n",
    "        for c, d in Relation:\n",
    "            if b == c:\n",
    "                if (a,d) not in Relation:\n",
    "                    return False    \n",
    "    return True\n",
    "\n",
    "A ={1, 2, 3, 4}\n",
    "R1 = {(1, 1), (1, 2), (2, 3), (1, 3), (4, 4)}\n",
    "R2 = {(1, 1), (1, 2), (2, 1),(2,2),(3,3),(4,4)}\n",
    "R3 = {(1,3),(2,1)}\n",
    "R4 = {(a,b) for a in A for b in A}\n",
    "for R in [R1, R2, R3, R4]:\n",
    "    print(R)\n",
    "    print(\"  transitive: \", transitive(R))"
   ]
  },
  {
   "cell_type": "markdown",
   "metadata": {},
   "source": [
    "# Assignments\n",
    "---\n",
    "### Instructions:\n",
    "#### 1. Use Latex programming to show your solution.\n",
    "#### 2. For problems requiring the identification of reflexive, symmetric, and transitive properties of relation, show both manual solution via latex, and the solution using your python function.\n",
    "---\n",
    "* Given $A = \\{1,2,3,4\\}$ and $B=\\{x,y,z\\}$. Let $R$ be a relation from $A \\to B$:\n",
    "\\begin{equation}\n",
    "\\textbf{R} = \\{\n",
    "\\{1,y\\},\\{1,z\\},\\{3,y\\},\\{4,x\\},\\{4,z\\}\n",
    "\\}\n",
    "\\end{equation}\n",
    "1. ##### Find all $aRb$.\n",
    "2. ##### Find $R^{-1}$.\n",
    "3. ##### Determine the domain and range of $R$.\n",
    "4. ##### Check if $R$ is a reflexive relation.\n",
    "5. ##### Check if $R$ is a symmetric relation."
   ]
  },
  {
   "cell_type": "markdown",
   "metadata": {},
   "source": [
    "### Answer "
   ]
  },
  {
   "cell_type": "markdown",
   "metadata": {},
   "source": [
    "#### 1. Find all $aRb$."
   ]
  },
  {
   "cell_type": "code",
   "execution_count": 56,
   "metadata": {},
   "outputs": [
    {
     "name": "stdout",
     "output_type": "stream",
     "text": [
      "[(1, 'x'), (1, 'z'), (1, 'y'), (2, 'x'), (2, 'z'), (2, 'y'), (3, 'x'), (3, 'z'), (3, 'y'), (4, 'x'), (4, 'z'), (4, 'y')]\n"
     ]
    }
   ],
   "source": [
    "A = set([1, 2, 3, 4])\n",
    "B = set(['x','y','z'])\n",
    "Cartesian = [(a,b) for a in A for b in B]\n",
    "print(Cartesian)"
   ]
  },
  {
   "cell_type": "markdown",
   "metadata": {},
   "source": [
    "- #### Checking from the results, $R$ = {{1,y}$\\checkmark$\n",
    "1. {1,z} \\:  $\\checkmark$\n",
    "2. {3,y} \\:  $\\checkmark$\n",
    "3. {4,x} \\:  $\\checkmark$\n",
    "4. {4,z} \\: $\\checkmark$\n",
    "- #### With respect to the relation, $R: 1\\;R\\;y, 1\\;R\\;z, 3\\;R\\;y, 4\\;R\\;x, 4\\;Rz\\;$"
   ]
  },
  {
   "cell_type": "markdown",
   "metadata": {},
   "source": [
    "#### 2. Find $R^{-1}$.\n",
    "- ##### $R$ = {{1,y} , {1,z} , {3,y} , {4,x} , {4,z}}\n",
    "- ##### $R^{-1}$ = {{y,1} , {z,1} , {y,3} , {x,4} , {z,4}}"
   ]
  },
  {
   "cell_type": "markdown",
   "metadata": {},
   "source": [
    "#### 3. Determine the domain and range of $R$.\n",
    "- {1,y}: domain $a$ = 1 : range $b$ = y.\n",
    "- {1,z}: domain $a$ = 1 : range $b$ = z.\n",
    "- {3,y}: domain $a$ = 3 : range $b$ = y.\n",
    "- {4,x}: domain $a$ = 4 : range $b$ = x.\n",
    "- {4,z}: domain $a$ = 4 : range $b$ = z.\n",
    "- The domain of $R$ is {1,3,4} and the range is {x,y,z}"
   ]
  },
  {
   "cell_type": "markdown",
   "metadata": {},
   "source": [
    "#### 4. Check if $R$ is a reflexive relation.\n",
    "A relation $\\textbf{R}$ on a set A is reflexive $\\iff a\\;\\textbf{R}\\;a  \\ \\forall \\ a \\in A$.\n",
    "- For element 1, does $a\\;\\textbf{R}\\;a$ = {1,1} exist? No.\n",
    "- {1,1} does not exist.\n",
    "- $R$ is not reflexive."
   ]
  },
  {
   "cell_type": "markdown",
   "metadata": {},
   "source": [
    "### Solution:"
   ]
  },
  {
   "cell_type": "code",
   "execution_count": 57,
   "metadata": {},
   "outputs": [
    {
     "name": "stdout",
     "output_type": "stream",
     "text": [
      "A =  {1, 2, 3, 4}\n",
      "B =  {'x', 'z', 'y'}\n",
      "R =  {(3, 'y'), (4, 'z'), (4, 'x'), (1, 'z'), (1, 'y')}\n",
      "Is R reflexive in A?: False\n",
      "Is R reflexive in B?: False\n"
     ]
    }
   ],
   "source": [
    "A = {1,2,3,4}\n",
    "B = {'x','y','z'}\n",
    "R = {(1,'y'),(1,'z'),(3,'y'),(4,'x'),(4,'z')}\n",
    "print(\"A = \", A)\n",
    "print(\"B = \", B)\n",
    "print(\"R = \", R)\n",
    "print (\"Is R reflexive in A?:\", reflexive(R,A))\n",
    "print (\"Is R reflexive in B?:\", reflexive(R,B))"
   ]
  },
  {
   "cell_type": "markdown",
   "metadata": {},
   "source": [
    "#### 5. Check if $R$ is a symmetric relation.\n",
    "- For symmetry, for every $a\\;\\textbf{$R$}\\;b$ then $b\\;\\textbf{$R$}\\;a$ must exist.\n",
    "- For ordered pair {1,y}, does $b\\;\\textbf{$R$}\\;a$ = {y,1} exist? No.\n",
    "- {y,1} does not exist. Therefore, checking symmetry is not necessary\n",
    "- $R$ is not symmetric."
   ]
  },
  {
   "cell_type": "markdown",
   "metadata": {},
   "source": [
    "#### Python Solution:"
   ]
  },
  {
   "cell_type": "code",
   "execution_count": 58,
   "metadata": {},
   "outputs": [
    {
     "name": "stdout",
     "output_type": "stream",
     "text": [
      "R =  {(3, 'y'), (4, 'z'), (4, 'x'), (1, 'z'), (1, 'y')}\n",
      "Is the relation symmetric? : False\n"
     ]
    }
   ],
   "source": [
    "print (\"R = \",R)\n",
    "print(\"Is the relation symmetric? :\", symmetric(R))"
   ]
  },
  {
   "cell_type": "markdown",
   "metadata": {},
   "source": [
    "* Given $A = \\{1,2,3,4\\}$,$B=\\{a,b,c\\}$, and $C=\\{x,y,z\\}$ . Let $R$ be a relation from $A \\to B$:\n",
    "\\begin{equation}\n",
    "\\textbf{R} = \\{\n",
    "\\{1,b\\},\\{2,a\\},\\{2,c\\}\n",
    "\\}\n",
    "\\end{equation}\n",
    "<br>\n",
    "\n",
    "Also Let $S$ be a relation from $B \\to C$:\n",
    "\\begin{equation}\n",
    "\\textbf{S} = \\{\n",
    "\\{a,y\\},\\{b,x\\},\\{c,y\\},,\\{c,z\\}\n",
    "\\}\n",
    "\\end{equation}\n",
    "1. Find the composition relation $\\textbf{R}\\circ\\textbf{S}$.\n",
    "2. Find $R^{-1}$.\n",
    "3. Find $S^{-1}$.\n",
    "4. Determine the domain and range of $R$.\n",
    "5. Check if $R$ is a reflexive relation.\n",
    "6. Check if $R$ is a symmetric relation.\n",
    "7. Determine the domain and range of $S$.\n",
    "8. Check if $S$ is a reflexive relation.\n",
    "9. Check if $S$ is a symmetric relation."
   ]
  },
  {
   "cell_type": "markdown",
   "metadata": {},
   "source": [
    "## Answer"
   ]
  },
  {
   "cell_type": "markdown",
   "metadata": {},
   "source": [
    "#### 1. Find the composition relation $\\textbf{R}\\circ\\textbf{S}$.\n",
    "-  {1,b} $\\in$ R = aRb, {b,x} $\\in$ S = bRc. $\\quad \\therefore$ R $\\circ$ S, aRc = {1,x}\n",
    "-  {2,a} $\\in$ R = aRb, {a,y} $\\in$ S = bRc. $\\quad \\therefore$ R $\\circ$ S, aRc = {2,y}\n",
    "-  {2,c} $\\in$ R = aRb, {c,y}, {c,z} $\\in$ S = bRc. $\\quad \\therefore$ R $\\circ$ S, aRc = {2,y}, {2,z}\n",
    "-  $R$  $\\circ$ $S$ = {{1,x}, {2,y}, {2,z}}\n",
    "\n",
    "#### 2. Find $R^{-1}$.\n",
    "- #### R = {{1,b}, {2,a}, {2,c}}\n",
    "- #### R $^{-1}$ = {{b,1}, {a,2}, {c,2}}\n",
    "\n",
    "#### 3. Find $S^{-1}$.\n",
    "- #### S = {{a,y}, {b,x}, {c,y}, {c,z}} \n",
    "- #### S $^{-1}$ = {{y,a}, {x,b}, {y,c}, {z,c}}\n",
    "\n",
    "#### 4. Determine the domain and range of $R$.\n",
    "  -  {1,b}: domain $a$ = 1 : range $b$ = b.\n",
    "  -  {2,a}: domain $a$ = 2 : range $b$ = a.\n",
    "  -  {2,c}: domain $a$ = 2 : range $b$ = c.\n",
    "- ##### Domain : {1, 2}\n",
    "- ##### Range : {a, b, c}\n"
   ]
  },
  {
   "cell_type": "markdown",
   "metadata": {},
   "source": [
    "#### 5. Check if $R$ is a reflexive relation.\n",
    "A relation $\\textbf{R}$ is reflexive $\\iff a\\;\\textbf{R}\\;a  \\ \\forall \\ a \\in A$.\n",
    "- ##### For element 1, does $a\\;\\textbf{R}\\;a$ = {1,1} exist? No.\n",
    "- ##### $R$ is not reflexive."
   ]
  },
  {
   "cell_type": "markdown",
   "metadata": {},
   "source": [
    "## Solution:"
   ]
  },
  {
   "cell_type": "code",
   "execution_count": 59,
   "metadata": {},
   "outputs": [
    {
     "name": "stdout",
     "output_type": "stream",
     "text": [
      "A =  {1, 2, 3, 4}\n",
      "B =  {'b', 'c', 'a'}\n",
      "C =  {'x', 'y'}\n",
      "R =  {(1, 'b'), (2, 'c'), (2, 'a')}\n",
      "Is the relation reflexive in A?:  False\n",
      "Is the relation reflexive in B?:  False\n",
      "Is the relation reflexive in C?:  False\n"
     ]
    }
   ],
   "source": [
    "A = {1,2,3,4}\n",
    "B = {'a','b','c'}\n",
    "C = {'x','y','x'}\n",
    "R = {(1,'b'),(2,'a'),(2,'c')}\n",
    "S = {('a','y'),('b','x'),('c','y'),('c','z')}\n",
    "print(\"A = \",A)\n",
    "print(\"B = \",B)\n",
    "print(\"C = \",C)\n",
    "print(\"R = \",R)\n",
    "print(\"Is the relation reflexive in A?: \", reflexive(R,A))\n",
    "print(\"Is the relation reflexive in B?: \", reflexive(R,B))\n",
    "print(\"Is the relation reflexive in C?: \", reflexive(R,C))"
   ]
  },
  {
   "cell_type": "markdown",
   "metadata": {},
   "source": [
    "#### 6. Check if $R$ is a symmetric relation.\n",
    "- For symmetry, for every $a\\;\\textbf{R}\\;b$ then $b\\;\\textbf{R}\\;a$ must exist.\n",
    "- For ordered pair {1,b},$b\\;\\textbf{R}\\;a$ = {b,1} does not exist\n",
    "- $R$ not symmetric."
   ]
  },
  {
   "cell_type": "markdown",
   "metadata": {},
   "source": [
    "## Solution:"
   ]
  },
  {
   "cell_type": "code",
   "execution_count": 60,
   "metadata": {},
   "outputs": [
    {
     "name": "stdout",
     "output_type": "stream",
     "text": [
      "R =  {(1, 'b'), (2, 'c'), (2, 'a')}\n",
      "Is the relation R symmetric?: False\n"
     ]
    }
   ],
   "source": [
    "print(\"R = \",R)\n",
    "print(\"Is the relation R symmetric?:\", symmetric(R))"
   ]
  },
  {
   "cell_type": "markdown",
   "metadata": {},
   "source": [
    "#### 7. Determine the domain and range of $S$.\n",
    "  - {a,y}: domain $a$ = a : range $b$ is y.\n",
    "  - {b,x}: domain $a$ = b : range $b$ is x.\n",
    "  - {c,y}: domain $a$ = c : range $b$ is y.\n",
    "  - {c,z}: domain $a$ = c : range $b$ is z.\n",
    "- ##### Domain = {a, b, c}\n",
    "- ##### Range = {x, y, z}"
   ]
  },
  {
   "cell_type": "markdown",
   "metadata": {},
   "source": [
    "#### 8. Check if $S$ is a reflexive relation.\n",
    "- In element a, $a\\;\\textbf{S}\\;a$ = {a,a} **does not** exist.\n",
    "- Therefore, $S$ is not reflexive.\n",
    "\n"
   ]
  },
  {
   "cell_type": "markdown",
   "metadata": {},
   "source": [
    "## Solution:"
   ]
  },
  {
   "cell_type": "code",
   "execution_count": 61,
   "metadata": {},
   "outputs": [
    {
     "name": "stdout",
     "output_type": "stream",
     "text": [
      "A =  {1, 2, 3, 4}\n",
      "B =  {'b', 'c', 'a'}\n",
      "C =  {'x', 'y'}\n",
      "S =  {('a', 'y'), ('c', 'z'), ('c', 'y'), ('b', 'x')}\n",
      "Is the relation S reflexive in A?:  False\n",
      "Is the relation S reflexive in B?:  False\n",
      "Is the relation S reflexive in C?:  False\n"
     ]
    }
   ],
   "source": [
    "print(\"A = \",A)\n",
    "print(\"B = \",B)\n",
    "print(\"C = \",C)\n",
    "print(\"S = \",S)\n",
    "print(\"Is the relation S reflexive in A?: \",reflexive(R,A))\n",
    "print(\"Is the relation S reflexive in B?: \",reflexive(R,B))\n",
    "print(\"Is the relation S reflexive in C?: \",reflexive(R,C))"
   ]
  },
  {
   "cell_type": "markdown",
   "metadata": {},
   "source": [
    "####  9. Check if $S$ is a symmetric relation.\n",
    "- For ordered pair {a,y}, does $b\\;\\textbf{S}\\;a$ = {y,a} exist? No.\n",
    "- Therefore, $S$ is not considered symmetric."
   ]
  },
  {
   "cell_type": "markdown",
   "metadata": {},
   "source": [
    "#### Solution:"
   ]
  },
  {
   "cell_type": "code",
   "execution_count": 62,
   "metadata": {},
   "outputs": [
    {
     "name": "stdout",
     "output_type": "stream",
     "text": [
      "S = S {('a', 'y'), ('c', 'z'), ('c', 'y'), ('b', 'x')}\n",
      "Is it symmetric?:  False\n"
     ]
    }
   ],
   "source": [
    "print(\"S = S\", S)\n",
    "print(\"Is it symmetric?: \",symmetric(S))"
   ]
  },
  {
   "cell_type": "markdown",
   "metadata": {},
   "source": [
    "---"
   ]
  },
  {
   "cell_type": "markdown",
   "metadata": {},
   "source": [
    "# Given"
   ]
  },
  {
   "cell_type": "markdown",
   "metadata": {},
   "source": [
    "* Given $A = \\{1,2,3,4\\}$. Let $R$ be a relation from $A \\to B$:\n",
    "\\begin{equation}\n",
    "\\textbf{R} = \\{\n",
    "\\{1,1\\},\\{2,2\\},\\{2,3\\},\\{3,2\\},\\{4,2\\},\\{4,4\\}\n",
    "\\}\n",
    "\\end{equation}\n",
    "<br>\n",
    "\n",
    "1. Find the composition relation $\\textbf{R}\\circ\\textbf{R}$.<br>\n",
    "2. Draw the directed graph of $R^{-1}$.\n",
    "3. Draw the directed graph of $R$."
   ]
  },
  {
   "cell_type": "markdown",
   "metadata": {},
   "source": [
    "# Answer "
   ]
  },
  {
   "cell_type": "markdown",
   "metadata": {},
   "source": [
    "### 1. Find the composition relation $\\textbf{R}\\circ\\textbf{R}$.<br>\n",
    "- {1,1} $\\in$ R = aRb, {1,1} $\\in$ S = bRc. $\\quad \\therefore$ R $\\circ$ S, aRc = {1,1}\n",
    "- {2,2} $\\in$ R = aRb, {2,2} {2,3} $\\in$ S = bRc. $\\quad \\therefore$ R $\\circ$ S, aRc = {2,2}, {2,3}\n",
    "- {2,3} $\\in$ R = aRb, {3,2} $\\in$ S = bRc. $\\quad \\therefore$ R $\\circ$ S, aRc = {2,2}\n",
    "- {3,2} $\\in$ R = aRb, {2,2}, {2,3} $\\in$ S = bRc. $\\quad \\therefore$ R $\\circ$ S, aRc = {3,2}, {3,3}\n",
    "- {4,2} $\\in$ R = aRb, {2,3}, {2,2} $\\in$ S = bRc. $\\quad \\therefore$ R $\\circ$ S, aRc = {4,3}, {4,2}\n",
    "- {4,4} $\\in$ R = aRb, {4,4}, {4,2} $\\in$ S = bRc. $\\quad \\therefore$ R $\\circ$ S, aRc = {4,4}, {4,2}\n",
    "- R $\\circ$ R = {{1,1}, {2,2}, {2,3}, {3,2}, {3,3}, {4,2}, {4,3}, {4,4}}"
   ]
  },
  {
   "cell_type": "markdown",
   "metadata": {},
   "source": [
    "### 2. Draw the directed graph of $R^{-1}$.\n",
    "- R = {{1,1}, {2,2}, {2,3}, {3,2}, {4,2}, {4,4}}\n",
    "- R $^{-1}$ = {{1,1}, {2,2} {3,2}, {2,3}, {2,4}, {4,4}}"
   ]
  },
  {
   "cell_type": "code",
   "execution_count": 63,
   "metadata": {},
   "outputs": [
    {
     "data": {
      "image/svg+xml": [
       "<?xml version=\"1.0\" encoding=\"UTF-8\" standalone=\"no\"?>\n",
       "<!DOCTYPE svg PUBLIC \"-//W3C//DTD SVG 1.1//EN\"\n",
       " \"http://www.w3.org/Graphics/SVG/1.1/DTD/svg11.dtd\">\n",
       "<!-- Generated by graphviz version 9.0.0 (20230911.1827)\n",
       " -->\n",
       "<!-- Pages: 1 -->\n",
       "<svg width=\"242pt\" height=\"116pt\"\n",
       " viewBox=\"0.00 0.00 242.00 116.00\" xmlns=\"http://www.w3.org/2000/svg\" xmlns:xlink=\"http://www.w3.org/1999/xlink\">\n",
       "<g id=\"graph0\" class=\"graph\" transform=\"scale(1 1) rotate(0) translate(4 112)\">\n",
       "<polygon fill=\"white\" stroke=\"none\" points=\"-4,4 -4,-112 238,-112 238,4 -4,4\"/>\n",
       "<!-- 1 -->\n",
       "<g id=\"node1\" class=\"node\">\n",
       "<title>1</title>\n",
       "<ellipse fill=\"none\" stroke=\"black\" cx=\"27\" cy=\"-90\" rx=\"27\" ry=\"18\"/>\n",
       "<text text-anchor=\"middle\" x=\"27\" y=\"-84.58\" font-family=\"Times New Roman,serif\" font-size=\"14.00\">1</text>\n",
       "</g>\n",
       "<!-- 1&#45;&gt;1 -->\n",
       "<g id=\"edge1\" class=\"edge\">\n",
       "<title>1&#45;&gt;1</title>\n",
       "<path fill=\"none\" stroke=\"black\" d=\"M46.9,-102.43C59.69,-105.68 72,-101.53 72,-90 72,-81.98 66.05,-77.54 58.12,-76.66\"/>\n",
       "<polygon fill=\"black\" stroke=\"black\" points=\"58.09,-73.15 48.4,-77.45 58.65,-80.13 58.09,-73.15\"/>\n",
       "</g>\n",
       "<!-- 2 -->\n",
       "<g id=\"node2\" class=\"node\">\n",
       "<title>2</title>\n",
       "<ellipse fill=\"none\" stroke=\"black\" cx=\"117\" cy=\"-90\" rx=\"27\" ry=\"18\"/>\n",
       "<text text-anchor=\"middle\" x=\"117\" y=\"-84.58\" font-family=\"Times New Roman,serif\" font-size=\"14.00\">2</text>\n",
       "</g>\n",
       "<!-- 2&#45;&gt;2 -->\n",
       "<g id=\"edge2\" class=\"edge\">\n",
       "<title>2&#45;&gt;2</title>\n",
       "<path fill=\"none\" stroke=\"black\" d=\"M136.9,-102.43C149.69,-105.68 162,-101.53 162,-90 162,-81.98 156.05,-77.54 148.12,-76.66\"/>\n",
       "<polygon fill=\"black\" stroke=\"black\" points=\"148.09,-73.15 138.4,-77.45 148.65,-80.13 148.09,-73.15\"/>\n",
       "</g>\n",
       "<!-- 3 -->\n",
       "<g id=\"node3\" class=\"node\">\n",
       "<title>3</title>\n",
       "<ellipse fill=\"none\" stroke=\"black\" cx=\"117\" cy=\"-18\" rx=\"27\" ry=\"18\"/>\n",
       "<text text-anchor=\"middle\" x=\"117\" y=\"-12.57\" font-family=\"Times New Roman,serif\" font-size=\"14.00\">3</text>\n",
       "</g>\n",
       "<!-- 2&#45;&gt;3 -->\n",
       "<g id=\"edge3\" class=\"edge\">\n",
       "<title>2&#45;&gt;3</title>\n",
       "<path fill=\"none\" stroke=\"black\" d=\"M111.12,-72.05C110.33,-64.57 110.08,-55.58 110.37,-47.14\"/>\n",
       "<polygon fill=\"black\" stroke=\"black\" points=\"113.85,-47.51 111.04,-37.3 106.87,-47.04 113.85,-47.51\"/>\n",
       "</g>\n",
       "<!-- 4 -->\n",
       "<g id=\"node4\" class=\"node\">\n",
       "<title>4</title>\n",
       "<ellipse fill=\"none\" stroke=\"black\" cx=\"189\" cy=\"-18\" rx=\"27\" ry=\"18\"/>\n",
       "<text text-anchor=\"middle\" x=\"189\" y=\"-12.57\" font-family=\"Times New Roman,serif\" font-size=\"14.00\">4</text>\n",
       "</g>\n",
       "<!-- 2&#45;&gt;4 -->\n",
       "<g id=\"edge4\" class=\"edge\">\n",
       "<title>2&#45;&gt;4</title>\n",
       "<path fill=\"none\" stroke=\"black\" d=\"M131.92,-74.5C141.77,-64.92 154.86,-52.19 166.03,-41.34\"/>\n",
       "<polygon fill=\"black\" stroke=\"black\" points=\"168.29,-44.02 173.02,-34.54 163.41,-39 168.29,-44.02\"/>\n",
       "</g>\n",
       "<!-- 3&#45;&gt;2 -->\n",
       "<g id=\"edge5\" class=\"edge\">\n",
       "<title>3&#45;&gt;2</title>\n",
       "<path fill=\"none\" stroke=\"black\" d=\"M122.86,-35.79C123.66,-43.25 123.92,-52.24 123.64,-60.69\"/>\n",
       "<polygon fill=\"black\" stroke=\"black\" points=\"120.16,-60.33 122.98,-70.54 127.14,-60.8 120.16,-60.33\"/>\n",
       "</g>\n",
       "<!-- 4&#45;&gt;4 -->\n",
       "<g id=\"edge6\" class=\"edge\">\n",
       "<title>4&#45;&gt;4</title>\n",
       "<path fill=\"none\" stroke=\"black\" d=\"M208.9,-30.43C221.69,-33.68 234,-29.53 234,-18 234,-9.98 228.05,-5.54 220.12,-4.66\"/>\n",
       "<polygon fill=\"black\" stroke=\"black\" points=\"220.09,-1.15 210.4,-5.45 220.65,-8.13 220.09,-1.15\"/>\n",
       "</g>\n",
       "</g>\n",
       "</svg>\n"
      ],
      "text/plain": [
       "<graphviz.sources.Source at 0x2463bf93250>"
      ]
     },
     "execution_count": 63,
     "metadata": {},
     "output_type": "execute_result"
    }
   ],
   "source": [
    "import networkx as nx\n",
    "G = nx.MultiDiGraph()\n",
    "\n",
    "G.add_edge('1','1')\n",
    "G.add_edge('2','2')\n",
    "G.add_edge('3','2')\n",
    "G.add_edge('2','3')\n",
    "G.add_edge('2','4')\n",
    "G.add_edge('4','4')\n",
    "from networkx.drawing import nx_pydot\n",
    "from graphviz import Source\n",
    "\n",
    "nx_pydot.write_dot(G, 'multig.dot')\n",
    "Source.from_file('multig.dot')"
   ]
  },
  {
   "cell_type": "code",
   "execution_count": 64,
   "metadata": {},
   "outputs": [
    {
     "data": {
      "image/svg+xml": [
       "<?xml version=\"1.0\" encoding=\"UTF-8\" standalone=\"no\"?>\n",
       "<!DOCTYPE svg PUBLIC \"-//W3C//DTD SVG 1.1//EN\"\n",
       " \"http://www.w3.org/Graphics/SVG/1.1/DTD/svg11.dtd\">\n",
       "<!-- Generated by graphviz version 9.0.0 (20230911.1827)\n",
       " -->\n",
       "<!-- Pages: 1 -->\n",
       "<svg width=\"170pt\" height=\"188pt\"\n",
       " viewBox=\"0.00 0.00 170.00 188.00\" xmlns=\"http://www.w3.org/2000/svg\" xmlns:xlink=\"http://www.w3.org/1999/xlink\">\n",
       "<g id=\"graph0\" class=\"graph\" transform=\"scale(1 1) rotate(0) translate(4 184)\">\n",
       "<polygon fill=\"white\" stroke=\"none\" points=\"-4,4 -4,-184 166,-184 166,4 -4,4\"/>\n",
       "<!-- 1 -->\n",
       "<g id=\"node1\" class=\"node\">\n",
       "<title>1</title>\n",
       "<ellipse fill=\"none\" stroke=\"black\" cx=\"27\" cy=\"-162\" rx=\"27\" ry=\"18\"/>\n",
       "<text text-anchor=\"middle\" x=\"27\" y=\"-156.57\" font-family=\"Times New Roman,serif\" font-size=\"14.00\">1</text>\n",
       "</g>\n",
       "<!-- 1&#45;&gt;1 -->\n",
       "<g id=\"edge1\" class=\"edge\">\n",
       "<title>1&#45;&gt;1</title>\n",
       "<path fill=\"none\" stroke=\"black\" d=\"M46.9,-174.43C59.69,-177.68 72,-173.53 72,-162 72,-153.98 66.05,-149.54 58.12,-148.66\"/>\n",
       "<polygon fill=\"black\" stroke=\"black\" points=\"58.09,-145.15 48.4,-149.45 58.65,-152.13 58.09,-145.15\"/>\n",
       "</g>\n",
       "<!-- 2 -->\n",
       "<g id=\"node2\" class=\"node\">\n",
       "<title>2</title>\n",
       "<ellipse fill=\"none\" stroke=\"black\" cx=\"117\" cy=\"-90\" rx=\"27\" ry=\"18\"/>\n",
       "<text text-anchor=\"middle\" x=\"117\" y=\"-84.58\" font-family=\"Times New Roman,serif\" font-size=\"14.00\">2</text>\n",
       "</g>\n",
       "<!-- 2&#45;&gt;2 -->\n",
       "<g id=\"edge2\" class=\"edge\">\n",
       "<title>2&#45;&gt;2</title>\n",
       "<path fill=\"none\" stroke=\"black\" d=\"M136.9,-102.43C149.69,-105.68 162,-101.53 162,-90 162,-81.98 156.05,-77.54 148.12,-76.66\"/>\n",
       "<polygon fill=\"black\" stroke=\"black\" points=\"148.09,-73.15 138.4,-77.45 148.65,-80.13 148.09,-73.15\"/>\n",
       "</g>\n",
       "<!-- 3 -->\n",
       "<g id=\"node3\" class=\"node\">\n",
       "<title>3</title>\n",
       "<ellipse fill=\"none\" stroke=\"black\" cx=\"117\" cy=\"-18\" rx=\"27\" ry=\"18\"/>\n",
       "<text text-anchor=\"middle\" x=\"117\" y=\"-12.57\" font-family=\"Times New Roman,serif\" font-size=\"14.00\">3</text>\n",
       "</g>\n",
       "<!-- 2&#45;&gt;3 -->\n",
       "<g id=\"edge3\" class=\"edge\">\n",
       "<title>2&#45;&gt;3</title>\n",
       "<path fill=\"none\" stroke=\"black\" d=\"M111.12,-72.05C110.33,-64.57 110.08,-55.58 110.37,-47.14\"/>\n",
       "<polygon fill=\"black\" stroke=\"black\" points=\"113.85,-47.51 111.04,-37.3 106.87,-47.04 113.85,-47.51\"/>\n",
       "</g>\n",
       "<!-- 3&#45;&gt;2 -->\n",
       "<g id=\"edge4\" class=\"edge\">\n",
       "<title>3&#45;&gt;2</title>\n",
       "<path fill=\"none\" stroke=\"black\" d=\"M122.86,-35.79C123.66,-43.25 123.92,-52.24 123.64,-60.69\"/>\n",
       "<polygon fill=\"black\" stroke=\"black\" points=\"120.16,-60.33 122.98,-70.54 127.14,-60.8 120.16,-60.33\"/>\n",
       "</g>\n",
       "<!-- 4 -->\n",
       "<g id=\"node4\" class=\"node\">\n",
       "<title>4</title>\n",
       "<ellipse fill=\"none\" stroke=\"black\" cx=\"117\" cy=\"-162\" rx=\"27\" ry=\"18\"/>\n",
       "<text text-anchor=\"middle\" x=\"117\" y=\"-156.57\" font-family=\"Times New Roman,serif\" font-size=\"14.00\">4</text>\n",
       "</g>\n",
       "<!-- 4&#45;&gt;2 -->\n",
       "<g id=\"edge5\" class=\"edge\">\n",
       "<title>4&#45;&gt;2</title>\n",
       "<path fill=\"none\" stroke=\"black\" d=\"M117,-143.7C117,-136.41 117,-127.73 117,-119.54\"/>\n",
       "<polygon fill=\"black\" stroke=\"black\" points=\"120.5,-119.62 117,-109.62 113.5,-119.62 120.5,-119.62\"/>\n",
       "</g>\n",
       "<!-- 4&#45;&gt;4 -->\n",
       "<g id=\"edge6\" class=\"edge\">\n",
       "<title>4&#45;&gt;4</title>\n",
       "<path fill=\"none\" stroke=\"black\" d=\"M136.9,-174.43C149.69,-177.68 162,-173.53 162,-162 162,-153.98 156.05,-149.54 148.12,-148.66\"/>\n",
       "<polygon fill=\"black\" stroke=\"black\" points=\"148.09,-145.15 138.4,-149.45 148.65,-152.13 148.09,-145.15\"/>\n",
       "</g>\n",
       "</g>\n",
       "</svg>\n"
      ],
      "text/plain": [
       "<graphviz.sources.Source at 0x2463c086b10>"
      ]
     },
     "execution_count": 64,
     "metadata": {},
     "output_type": "execute_result"
    }
   ],
   "source": [
    "import networkx as nx\n",
    "G = nx.MultiDiGraph()\n",
    "\n",
    "G.add_edge('1','1')\n",
    "G.add_edge('2','2')\n",
    "G.add_edge('2','3')\n",
    "G.add_edge('3','2')\n",
    "G.add_edge('4','2')\n",
    "G.add_edge('4','4')\n",
    "from networkx.drawing import nx_pydot\n",
    "from graphviz import Source\n",
    "\n",
    "nx_pydot.write_dot(G, 'multig.dot')\n",
    "Source.from_file('multig.dot')"
   ]
  },
  {
   "cell_type": "markdown",
   "metadata": {},
   "source": [
    "\n",
    "\n",
    "# Given & Answer\n"
   ]
  },
  {
   "cell_type": "markdown",
   "metadata": {},
   "source": [
    "* Let $R$ and $S$ be relations on $A = \\{1,2,3\\}$<br>\n",
    "let:<br>\n",
    "\n",
    "$\\textbf{R} = \\{\n",
    "\\{1,1\\},\\{1,2\\},\\{2,3\\},\\{3,1\\},\\{3,3\\}\n",
    "\\}$<br>\n",
    "let:<br>\n",
    "$\\textbf{S} = \\{\n",
    "\\{1,2\\},\\{1,3\\},\\{2,1\\},\\{3,3\\}\n",
    "\\}$<br>\n",
    "Find:<br>\n",
    "1. $R \\cup S$.<br>\n",
    "- $R \\cup S$ = {x $\\in$ R $\\vee$ x $\\in$ S}\n",
    "- $R \\cup S$ = {{1,1}, {1,2}, {1,3}, {2,1}, {2,3}, {3,1}, {3,3}}\n",
    "\n",
    "2. $R \\cap S$.<br>\n",
    "- $R \\cap S$ = {x $\\in$ R $\\wedge$ x $\\in$ S}\n",
    "- $R \\cap S$ = {{1,2}, {3,3}} <br>\n",
    "\n",
    "3. $R^{c}$.<br>\n",
    "- $R^{c} = U - R$\n",
    "- U = $R \\cup S$ = {{1,1}, {1,2}, {1,3}, {2,1}, {2,3}, {3,1}, {3,3}}\n",
    "- $ U - R$ = {{1,1}, {1,2}, {1,3}, {2,1}, {2,3}, {3,1}, {3,3}} - {{1,1},\\{1,2},\\{2,3},{3,1},{3,3}}\n",
    "- $R^{c}$ = {{1,3}, {2,1}} <br>\n",
    "\n",
    "4. $R \\circ S$.<br>\n",
    "- {1,1} $\\in$ R = aRb, {1,2}, {1,3} $\\in$ S = bRc. $\\quad \\therefore$ R $\\circ$ S, aRc = {1,2}, {1,3}\n",
    "- {1,2} $\\in$ R = aRb, {2,1} $\\in$ S = bRc. $\\quad \\therefore$ R $\\circ$ S, aRc = {1,1}  \n",
    "- {2,3} $\\in$ R = aRb, {3,3}, {2,3} $\\in$ S = bRc. $\\quad \\therefore$ R $\\circ$ S, aRc = {2,3}\n",
    "- {3,1} $\\in$ R = aRb, {1,2}, {1,3} $\\in$ S = bRc. $\\quad \\therefore$ R $\\circ$ S, aRc = {3,2}, {3,3}\n",
    "- {3,3} $\\in$ R = aRb, {3,3} $\\in$ S = bRc. $\\quad \\therefore$ R $\\circ$ S, aRc = {3,3}\n",
    "- $R \\circ S$ = {{1,1}, {1,2}, {1,3}, {2,3}, {3,2}, {3,3}}\n",
    "\n",
    "5. $S \\circ S$.<br>\n",
    "- {1,2} $\\in$ R = aRb, {2,1} $\\in$ S = bRc. $\\quad \\therefore$ R $\\circ$ S, aRc = {1,1}\n",
    "- {1,3} $\\in$ R = aRb, {3,3} $\\in$ S = bRc. $\\quad \\therefore$ R $\\circ$ S, aRc = {1,3}\n",
    "- {2,1} $\\in$ R = aRb, {1,2}, {1,3} $\\in$ S = bRc. $\\quad \\therefore$ R $\\circ$ S, aRc = {2,2}, {2,3}\n",
    "- {3,3} $\\in$ R = aRb, {3,3} $\\in$ S = bRc. $\\quad \\therefore$ R $\\circ$ S, aRc = {3,3}\n",
    "- $S \\circ S$ = {{1,1}, {1,3}, {2,2}, {2,3}, {3,3}}"
   ]
  },
  {
   "cell_type": "markdown",
   "metadata": {},
   "source": [
    "\n",
    "# Given "
   ]
  },
  {
   "cell_type": "markdown",
   "metadata": {},
   "source": [
    "* Consider the five relations on the set $A = \\{1,2,3\\}$:\n",
    "\\begin{equation}\n",
    "\\textbf{R} = \\{\n",
    "\\{1,1\\},\\{1,2\\},\\{1,3\\},\\{3,3\\}\n",
    "\\}\n",
    "\\end{equation}\n",
    "<br>\n",
    "\\begin{equation}\n",
    "\\textbf{S} = \\{\n",
    "\\{1,1\\},\\{1,2\\},\\{2,1\\},\\{2,2\\},\\{3,3\\}\n",
    "\\}\n",
    "\\end{equation}\n",
    "<br>\n",
    "\\begin{equation}\n",
    "\\textbf{T} = \\{\n",
    "\\{1,1\\},\\{1,2\\},\\{2,2\\},\\{2,3\\},\n",
    "\\}\n",
    "\\end{equation}\n",
    "<br>\n",
    "Which of the relations above are:<br>\n",
    "1. Reflexive.<br>\n",
    "2. Symmetric or anti-symmetric.<br>\n",
    "3. Transitive."
   ]
  },
  {
   "cell_type": "code",
   "execution_count": 65,
   "metadata": {},
   "outputs": [
    {
     "name": "stdout",
     "output_type": "stream",
     "text": [
      "{1, 2, 3}\n",
      "{(1, 1), (1, 2), (1, 3), (3, 3)}\n",
      "{(1, 2), (3, 3), (2, 1), (2, 2), (1, 1)}\n",
      "{(2, 3), (1, 1), (1, 2), (2, 2)}\n"
     ]
    }
   ],
   "source": [
    "A = {1,2,3}\n",
    "R = {(1,1),(1,2),(1,3),(3,3)}\n",
    "S = {(1,1),(1,2),(2,1),(2,2),(3,3)}\n",
    "T = {(1,1),(1,2),(2,2),(2,3)}\n",
    "print(A)\n",
    "print(R)\n",
    "print(S)\n",
    "print(T)"
   ]
  },
  {
   "cell_type": "markdown",
   "metadata": {},
   "source": [
    "# Answer"
   ]
  },
  {
   "cell_type": "markdown",
   "metadata": {},
   "source": [
    "### 1. Reflexivity Solution:"
   ]
  },
  {
   "cell_type": "markdown",
   "metadata": {},
   "source": [
    "\n",
    "- #### relation $R$\n",
    "  - Does the relation aRa = {1,1} exist for element 1? Yes.\n",
    "  - Does the relation aRa = {2,2} exist for element 2? No.\n",
    "- $R$ is not reflexive.\n",
    "<br>\n",
    "\n",
    "- #### relation $S$\n",
    "  - Does the relation aRa = {1,1} hold for element 1? Yes.\n",
    "  - Does the relation aRa = {2,2} apply to element 2? Yes.\n",
    "  - Does the relation aRa = {3,3} hold for element 3? Yes.\n",
    "- #### $S$ is reflexive.\n",
    "\n",
    "- #### For relation $T$\n",
    "  - Is there a presence of aRa = {1,1} for element 1? Yes.\n",
    "  - Does the relation aRa = {2,2} hold for element 2? Yes.\n",
    "  - Does the relation aRa = {3,3} not exist for element 3? No.\n",
    "- #### $T$ is not reflexive."
   ]
  },
  {
   "cell_type": "markdown",
   "metadata": {},
   "source": [
    "## Solution:"
   ]
  },
  {
   "cell_type": "code",
   "execution_count": 66,
   "metadata": {},
   "outputs": [
    {
     "name": "stdout",
     "output_type": "stream",
     "text": [
      "R =  {(1, 1), (1, 2), (1, 3), (3, 3)}\n",
      "Is relation R reflexive in A? False\n",
      "S =  {(1, 2), (3, 3), (2, 1), (2, 2), (1, 1)}\n",
      "Is relation S reflexive in A? True\n",
      "T =  {(2, 3), (1, 1), (1, 2), (2, 2)}\n",
      "Is relation T reflexive in A? False\n"
     ]
    }
   ],
   "source": [
    "print(\"R = \",R)\n",
    "print(\"Is relation R reflexive in A?\", reflexive(R,A))\n",
    "\n",
    "print(\"S = \",S)\n",
    "print(\"Is relation S reflexive in A?\", reflexive(S,A))\n",
    "\n",
    "print(\"T = \",T)\n",
    "print(\"Is relation T reflexive in A?\", reflexive(T,A))\n"
   ]
  },
  {
   "cell_type": "markdown",
   "metadata": {},
   "source": [
    "### 2. Symmetry "
   ]
  },
  {
   "cell_type": "markdown",
   "metadata": {},
   "source": [
    "\n",
    "- #### For relation $R$\n",
    "  - {1,1} is symmetric.\n",
    "  - {1,2}, b $R$ a = {2,1} does not exist\n",
    "- #### $R$ is not symmetric. <br> <br>\n",
    "- #### For relation $S$\n",
    "  - {1,1} is symmetric.\n",
    "  - {1,2}, b $R$ a = {2,1} does exist\n",
    "  - {2,2} is symmetric.\n",
    "  - {3,3} is symmetric.\n",
    "- #### $S$ is symmetric. <br> <br>\n",
    "- #### For relation $T$\n",
    "  - {1,1} is symmetric.\n",
    "  - {1,2}, b $R$ a = {2,1} does not exist\n",
    "- #### $T$ is not symmetric."
   ]
  },
  {
   "cell_type": "markdown",
   "metadata": {},
   "source": [
    "## Solution:"
   ]
  },
  {
   "cell_type": "code",
   "execution_count": 67,
   "metadata": {},
   "outputs": [],
   "source": [
    "def is_antisymmetric(A, R):\n",
    "    for a in A:\n",
    "        for b in A:\n",
    "            if a != b:\n",
    "                # Check if (a, b) and (b, a) are both in R\n",
    "                if ({a, b} in R) and ({b, a} in R):\n",
    "                    return False\n",
    "    return True"
   ]
  },
  {
   "cell_type": "code",
   "execution_count": 68,
   "metadata": {},
   "outputs": [
    {
     "name": "stdout",
     "output_type": "stream",
     "text": [
      "R =  {(1, 1), (1, 2), (1, 3), (3, 3)}\n",
      "Is the relation R symmetric?:  False\n",
      "S =  {(1, 2), (3, 3), (2, 1), (2, 2), (1, 1)}\n",
      "Is the relation R symmetric?:  True\n",
      "T =  {(2, 3), (1, 1), (1, 2), (2, 2)}\n",
      "Is the relation R symmetric?:  False\n"
     ]
    }
   ],
   "source": [
    "print(\"R = \",R)\n",
    "print(\"Is the relation R symmetric?: \", symmetric(R))\n",
    "print(\"S = \",S)\n",
    "print(\"Is the relation R symmetric?: \", symmetric(S))\n",
    "print(\"T = \",T)\n",
    "print(\"Is the relation R symmetric?: \", symmetric(T))"
   ]
  },
  {
   "cell_type": "markdown",
   "metadata": {},
   "source": [
    "### 2. Anti-symmetry"
   ]
  },
  {
   "cell_type": "markdown",
   "metadata": {},
   "source": [
    "\n",
    "- #### For relation $R$\n",
    "  - Is the ordered pair {1,1} non-distinct? Yes.\n",
    "  - Does the relation bRa = {2,1} not exist for the ordered pair {1,2}? Yes.\n",
    "  - Does the relation bRa = {3,1} not exist for the ordered pair {1,3}? Yes.\n",
    "  - For ordered pair {3,3}, is the pair not distinct?b-\n",
    "- $R$ is anti-symmetric.<br><br>\n",
    "- For relation $S$\n",
    "  - Is the ordered pair {1,1} identical? Yes.\n",
    "  - Does the relation bRa = {2,1} exist for the ordered pair {1,2}? Yes.\n",
    "- $S$ is not anti-symmetric.<br><br>\n",
    "- For relation $T$\n",
    "  - Is the pair {1,1} considered non-distinct? Yes.\n",
    "  - For the ordered pair {1,2}, does bRa = {2,1} exist? No.\n",
    "  - Is the pair {2,2} considered non-distinct? Yes.\n",
    "  - For ordered pair {2,3}, idoes bRa = {3,2} not exist? Yes\n",
    "- $T$ is anti-symmetric.<br><br>br>"
   ]
  },
  {
   "cell_type": "markdown",
   "metadata": {},
   "source": [
    "## Solution:"
   ]
  },
  {
   "cell_type": "markdown",
   "metadata": {},
   "source": [
    "# 3. Transitivity"
   ]
  },
  {
   "cell_type": "markdown",
   "metadata": {},
   "source": [
    "- #### For relation $R$\n",
    "  - ##### For {1,1} $\\in$ R = {1,1} $\\in$ R = bRc, $\\exists$({1,1}=aRc)?      Yes\n",
    "  - ##### For {1,2} $\\in$ R = aRb, $\\nexists$ bRa, $\\therefore$ ignores the transitivity check.\n",
    "  - ##### For {1,3} $\\in$ R = {3,3} $\\in$ R = bRc, $\\exists$({1,3}=aRc)? Yes\n",
    "  - ##### For {3,3} $\\in$ R = {3,3} $\\in$ R = bRc, $\\exists$({3,3}=aRc)? Yes\n",
    "- #### $R$ is transitive. <br><br>\n",
    "- #### For relation $S$\n",
    "  - ##### For {1,1} $\\in$ S = {1,1} $\\in$ S = bRc, $\\exists$({1,1}=aRc)? Yes\n",
    "  - ##### For {1,1} $\\in$ S = {1,2} $\\in$ S = bRc, $\\exists$({1,2}=aRc)? Yes\n",
    "  - ##### For {1,2} $\\in$ S = {2,1} $\\in$ S = bRc, $\\exists$({1,1}=aRc)? Yes\n",
    "  - ##### For {1,2} $\\in$ S = {2,2} $\\in$ S = bRc, $\\exists$({1,2}=aRc)? Yes\n",
    "  - ##### For {2,1} $\\in$ S = {1,1} $\\in$ S = bRc, $\\exists$({2,1}=aRc)? Yes\n",
    "  - ##### For {2,1} $\\in$ S = {1,2} $\\in$ S = bRc, $\\exists$({2,2}=aRc)? Yes\n",
    "  - ##### For {2,2} $\\in$ S = {2,2} $\\in$ S = bRc, $\\exists$({2,2}=aRc)? Yes\n",
    "  - ##### For {2,2} $\\in$ S = {2,1} $\\in$ S = bRc, $\\exists$({2,1}=aRc)? Yes\n",
    "  - ##### For {3,3} $\\in$ S = {3,3} $\\in$ S = bRc, $\\exists$({3,3}=aRc)? Yes\n",
    "- #### $S$ is transitive. <br><br>\n",
    "- #### For relation $T$\n",
    "  - ##### For {1,1} $\\in$ T = {1,1} $\\in$ T = bRc, $\\exists$({1,1}=aRc)? Yes\n",
    "  - ##### For {1,1} $\\in$ T = {1,2} $\\in$ T = bRc, $\\exists$({1,2}=aRc)? Yes\n",
    "  - ##### For {1,2} $\\in$ T = {2,2} $\\in$ T = bRc, $\\exists$({1,2}=aRc)? Yes\n",
    "  - ##### For {1,2} $\\in$ T = {2,3} $\\in$ T = bRc, $\\exists$({1,3}=aRc)? No\n",
    "- #### $T$ is not transitive. <br><br>"
   ]
  },
  {
   "cell_type": "markdown",
   "metadata": {},
   "source": [
    "## Solution"
   ]
  },
  {
   "cell_type": "code",
   "execution_count": 69,
   "metadata": {},
   "outputs": [
    {
     "name": "stdout",
     "output_type": "stream",
     "text": [
      "A =  {1, 2, 3} \n",
      "\n",
      "R =  {(1, 1), (1, 2), (1, 3), (3, 3)}\n",
      "Is relation R transitive?:  True\n",
      "S =  {(1, 2), (3, 3), (2, 1), (2, 2), (1, 1)}\n",
      "Is relation S transitive?:  True\n",
      "T =  {(2, 3), (1, 1), (1, 2), (2, 2)}\n",
      "Is relation T transitive?:  False\n"
     ]
    }
   ],
   "source": [
    "print(\"A = \",A, \"\\n\")\n",
    "\n",
    "print(\"R = \",R)\n",
    "print(\"Is relation R transitive?: \", transitive(R))\n",
    "print(\"S = \",S)\n",
    "print(\"Is relation S transitive?: \", transitive(S))\n",
    "print(\"T = \",T)\n",
    "print(\"Is relation T transitive?: \", transitive(T))"
   ]
  }
 ],
 "metadata": {
  "kernelspec": {
   "display_name": "Python 3 (ipykernel)",
   "language": "python",
   "name": "python3"
  },
  "language_info": {
   "codemirror_mode": {
    "name": "ipython",
    "version": 3
   },
   "file_extension": ".py",
   "mimetype": "text/x-python",
   "name": "python",
   "nbconvert_exporter": "python",
   "pygments_lexer": "ipython3",
   "version": "3.11.5"
  }
 },
 "nbformat": 4,
 "nbformat_minor": 4
}
